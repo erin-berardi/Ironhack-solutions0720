{
 "cells": [
  {
   "cell_type": "markdown",
   "metadata": {},
   "source": [
    "# Intrduction to NumPy\n",
    "\n",
    "\n",
    "#### 1. Import NumPy under the name np."
   ]
  },
  {
   "cell_type": "code",
   "execution_count": 1,
   "metadata": {},
   "outputs": [],
   "source": [
    "# your code here\n",
    "import numpy as np"
   ]
  },
  {
   "cell_type": "markdown",
   "metadata": {},
   "source": [
    "#### 2. Print your NumPy version."
   ]
  },
  {
   "cell_type": "code",
   "execution_count": 2,
   "metadata": {},
   "outputs": [
    {
     "name": "stdout",
     "output_type": "stream",
     "text": [
      "1.18.5\n"
     ]
    }
   ],
   "source": [
    "# your code here\n",
    "print(np.version.version)"
   ]
  },
  {
   "cell_type": "markdown",
   "metadata": {},
   "source": [
    "#### 3. Generate a 2x3x5 3-dimensional array with random values. Assign the array to variable *a*.\n",
    "**Challenge**: there are at least three easy ways that use numpy to generate random arrays. How many ways can you find?"
   ]
  },
  {
   "cell_type": "code",
   "execution_count": 3,
   "metadata": {},
   "outputs": [
    {
     "name": "stdout",
     "output_type": "stream",
     "text": [
      "[[[0.87174419 0.60162844 0.29338129 0.85902285 0.43795164]\n",
      "  [0.93936425 0.79245565 0.68895937 0.92908028 0.72698261]\n",
      "  [0.15228052 0.60089288 0.15302244 0.8705486  0.23120017]]\n",
      "\n",
      " [[0.13504351 0.91155456 0.01371127 0.01966771 0.87048159]\n",
      "  [0.27589039 0.30568329 0.5308498  0.02140748 0.85567739]\n",
      "  [0.597435   0.22330692 0.55529185 0.26492112 0.86395235]]]\n"
     ]
    }
   ],
   "source": [
    "# Method 1\n",
    "a = np.random.random((2,3,5))\n",
    "print(a)"
   ]
  },
  {
   "cell_type": "code",
   "execution_count": 4,
   "metadata": {},
   "outputs": [
    {
     "name": "stdout",
     "output_type": "stream",
     "text": [
      "[[[-0.92723607 -0.24776405 -0.60250603 -1.27549219 -0.70381596]\n",
      "  [ 0.21013495 -0.09630037 -0.23072055 -0.80585907  1.63823766]\n",
      "  [ 0.98116876  0.88107018  0.53773824  0.64161618 -0.22253745]]\n",
      "\n",
      " [[-0.36566437 -1.13517239 -1.60656026  1.42550946 -0.64981268]\n",
      "  [-0.39498248  0.93842011  1.17141681  1.72966158 -0.12612469]\n",
      "  [-0.04332047  0.74632337  2.00539752  0.40181645  0.25320803]]]\n"
     ]
    }
   ],
   "source": [
    "# Method 2\n",
    "a = np.random.normal(0, 1, (2, 3,5))\n",
    "print(a)"
   ]
  },
  {
   "cell_type": "code",
   "execution_count": 5,
   "metadata": {},
   "outputs": [
    {
     "name": "stdout",
     "output_type": "stream",
     "text": [
      "[[[5.46954183e-01 7.99158151e-02 1.37138733e-01 2.92659901e-01\n",
      "   3.62897232e-01]\n",
      "  [8.42633044e-01 8.14815571e-01 2.77283368e-01 4.59731730e-01\n",
      "   6.83495611e-04]\n",
      "  [9.39727298e-01 6.94818292e-01 8.22649360e-01 3.95751559e-01\n",
      "   1.21546997e-01]]\n",
      "\n",
      " [[9.96224309e-01 3.73149615e-02 6.34853415e-01 5.46520959e-01\n",
      "   8.08286064e-01]\n",
      "  [6.17439076e-01 6.31043345e-01 7.34705861e-01 4.97594751e-01\n",
      "   6.49827752e-01]\n",
      "  [2.69506568e-01 4.82604089e-01 3.87646054e-01 2.15324632e-01\n",
      "   3.17402304e-01]]]\n"
     ]
    }
   ],
   "source": [
    "# Method 3\n",
    "a = np.random.rand(2,3,5)\n",
    "print(a)"
   ]
  },
  {
   "cell_type": "markdown",
   "metadata": {},
   "source": [
    "#### 4. Print *a*.\n"
   ]
  },
  {
   "cell_type": "code",
   "execution_count": 6,
   "metadata": {},
   "outputs": [
    {
     "name": "stdout",
     "output_type": "stream",
     "text": [
      "[[[5.46954183e-01 7.99158151e-02 1.37138733e-01 2.92659901e-01\n",
      "   3.62897232e-01]\n",
      "  [8.42633044e-01 8.14815571e-01 2.77283368e-01 4.59731730e-01\n",
      "   6.83495611e-04]\n",
      "  [9.39727298e-01 6.94818292e-01 8.22649360e-01 3.95751559e-01\n",
      "   1.21546997e-01]]\n",
      "\n",
      " [[9.96224309e-01 3.73149615e-02 6.34853415e-01 5.46520959e-01\n",
      "   8.08286064e-01]\n",
      "  [6.17439076e-01 6.31043345e-01 7.34705861e-01 4.97594751e-01\n",
      "   6.49827752e-01]\n",
      "  [2.69506568e-01 4.82604089e-01 3.87646054e-01 2.15324632e-01\n",
      "   3.17402304e-01]]]\n"
     ]
    }
   ],
   "source": [
    "# your code here\n",
    "print(a)"
   ]
  },
  {
   "cell_type": "markdown",
   "metadata": {},
   "source": [
    "#### 5. Create a 5x2x3 3-dimensional array with all values equaling 1. Assign the array to variable *b*."
   ]
  },
  {
   "cell_type": "code",
   "execution_count": 7,
   "metadata": {},
   "outputs": [],
   "source": [
    "# your code here\n",
    "b = np.ones((5,2,3))"
   ]
  },
  {
   "cell_type": "markdown",
   "metadata": {},
   "source": [
    "#### 6. Print *b*.\n"
   ]
  },
  {
   "cell_type": "code",
   "execution_count": 8,
   "metadata": {},
   "outputs": [
    {
     "name": "stdout",
     "output_type": "stream",
     "text": [
      "[[[1. 1. 1.]\n",
      "  [1. 1. 1.]]\n",
      "\n",
      " [[1. 1. 1.]\n",
      "  [1. 1. 1.]]\n",
      "\n",
      " [[1. 1. 1.]\n",
      "  [1. 1. 1.]]\n",
      "\n",
      " [[1. 1. 1.]\n",
      "  [1. 1. 1.]]\n",
      "\n",
      " [[1. 1. 1.]\n",
      "  [1. 1. 1.]]]\n"
     ]
    }
   ],
   "source": [
    "# your code here\n",
    "print(b)"
   ]
  },
  {
   "cell_type": "markdown",
   "metadata": {},
   "source": [
    "#### 7. Do *a* and *b* have the same size? How do you prove that in Python code?"
   ]
  },
  {
   "cell_type": "code",
   "execution_count": 9,
   "metadata": {},
   "outputs": [
    {
     "name": "stdout",
     "output_type": "stream",
     "text": [
      "a and b have the same size: True\n"
     ]
    }
   ],
   "source": [
    "# your code here\n",
    "print(\"a and b have the same size:\", a.size == b.size)"
   ]
  },
  {
   "cell_type": "markdown",
   "metadata": {},
   "source": [
    "#### 8. Are you able to add *a* and *b*? Why or why not?\n"
   ]
  },
  {
   "cell_type": "code",
   "execution_count": 10,
   "metadata": {},
   "outputs": [
    {
     "ename": "ValueError",
     "evalue": "operands could not be broadcast together with shapes (2,3,5) (5,2,3) ",
     "output_type": "error",
     "traceback": [
      "\u001b[0;31m---------------------------------------------------------------------------\u001b[0m",
      "\u001b[0;31mValueError\u001b[0m                                Traceback (most recent call last)",
      "\u001b[0;32m<ipython-input-10-c5c230192db0>\u001b[0m in \u001b[0;36m<module>\u001b[0;34m\u001b[0m\n\u001b[1;32m      1\u001b[0m \u001b[0;31m# your answer here\u001b[0m\u001b[0;34m\u001b[0m\u001b[0;34m\u001b[0m\u001b[0;34m\u001b[0m\u001b[0m\n\u001b[0;32m----> 2\u001b[0;31m \u001b[0madd_ab\u001b[0m \u001b[0;34m=\u001b[0m \u001b[0mnp\u001b[0m\u001b[0;34m.\u001b[0m\u001b[0madd\u001b[0m\u001b[0;34m(\u001b[0m\u001b[0ma\u001b[0m\u001b[0;34m,\u001b[0m\u001b[0mb\u001b[0m\u001b[0;34m)\u001b[0m\u001b[0;34m\u001b[0m\u001b[0;34m\u001b[0m\u001b[0m\n\u001b[0m\u001b[1;32m      3\u001b[0m \u001b[0mprint\u001b[0m\u001b[0;34m(\u001b[0m\u001b[0;34m\"No. Because shape of both arrays is different\"\u001b[0m\u001b[0;34m)\u001b[0m\u001b[0;34m\u001b[0m\u001b[0;34m\u001b[0m\u001b[0m\n",
      "\u001b[0;31mValueError\u001b[0m: operands could not be broadcast together with shapes (2,3,5) (5,2,3) "
     ]
    }
   ],
   "source": [
    "# your answer here\n",
    "add_ab = np.add(a,b)\n",
    "print(\"No. Because shape of both arrays is different\")"
   ]
  },
  {
   "cell_type": "code",
   "execution_count": null,
   "metadata": {},
   "outputs": [],
   "source": [
    "\n"
   ]
  },
  {
   "cell_type": "code",
   "execution_count": null,
   "metadata": {},
   "outputs": [],
   "source": [
    "\n"
   ]
  },
  {
   "cell_type": "markdown",
   "metadata": {},
   "source": [
    "#### 9. Transpose *b* so that it has the same structure of *a* (i.e. become a 2x3x5 array). Assign the transposed array to variable *c*."
   ]
  },
  {
   "cell_type": "code",
   "execution_count": 11,
   "metadata": {},
   "outputs": [
    {
     "name": "stdout",
     "output_type": "stream",
     "text": [
      "A Shape: (2, 3, 5)\n",
      "B Shape: (5, 2, 3)\n",
      "Matrix d(Method 1):\n",
      " [[[1. 1. 1. 1. 1.]\n",
      "  [1. 1. 1. 1. 1.]\n",
      "  [1. 1. 1. 1. 1.]]\n",
      "\n",
      " [[1. 1. 1. 1. 1.]\n",
      "  [1. 1. 1. 1. 1.]\n",
      "  [1. 1. 1. 1. 1.]]]\n",
      "Matrix c(Method 2:)\n",
      " [[[1. 1. 1. 1. 1.]\n",
      "  [1. 1. 1. 1. 1.]\n",
      "  [1. 1. 1. 1. 1.]]\n",
      "\n",
      " [[1. 1. 1. 1. 1.]\n",
      "  [1. 1. 1. 1. 1.]\n",
      "  [1. 1. 1. 1. 1.]]]\n"
     ]
    }
   ],
   "source": [
    "# your code here\n",
    "print(\"A Shape:\", a.shape)\n",
    "print(\"B Shape:\", b.shape)\n",
    "#Roos solution \n",
    "d = b.reshape(2,3,5)\n",
    "print(\"Matrix d(Method 1):\\n\", d)\n",
    "#Proposed solution\n",
    "c = np.reshape(b,(2,3,5))\n",
    "\n",
    "print(\"Matrix c(Method 2:)\\n\", c)"
   ]
  },
  {
   "cell_type": "markdown",
   "metadata": {},
   "source": [
    "#### 10. Try to add *a* and *c*. Now it should work. Assign the sum to variable *d*. But why does it work now?"
   ]
  },
  {
   "cell_type": "code",
   "execution_count": 12,
   "metadata": {},
   "outputs": [
    {
     "name": "stdout",
     "output_type": "stream",
     "text": [
      "Now it works because a and c have the same shape\n",
      "[[[1.54695418 1.07991582 1.13713873 1.2926599  1.36289723]\n",
      "  [1.84263304 1.81481557 1.27728337 1.45973173 1.0006835 ]\n",
      "  [1.9397273  1.69481829 1.82264936 1.39575156 1.121547  ]]\n",
      "\n",
      " [[1.99622431 1.03731496 1.63485342 1.54652096 1.80828606]\n",
      "  [1.61743908 1.63104334 1.73470586 1.49759475 1.64982775]\n",
      "  [1.26950657 1.48260409 1.38764605 1.21532463 1.3174023 ]]]\n"
     ]
    }
   ],
   "source": [
    "# your code/answer here\n",
    "d = np.add(a,c)\n",
    "print(\"Now it works because a and c have the same shape\")\n",
    "print(d)"
   ]
  },
  {
   "cell_type": "markdown",
   "metadata": {},
   "source": [
    "#### 11. Print *a* and *d*. Notice the difference and relation of the two array in terms of the values? Explain."
   ]
  },
  {
   "cell_type": "code",
   "execution_count": 13,
   "metadata": {},
   "outputs": [
    {
     "name": "stdout",
     "output_type": "stream",
     "text": [
      "[[[5.46954183e-01 7.99158151e-02 1.37138733e-01 2.92659901e-01\n",
      "   3.62897232e-01]\n",
      "  [8.42633044e-01 8.14815571e-01 2.77283368e-01 4.59731730e-01\n",
      "   6.83495611e-04]\n",
      "  [9.39727298e-01 6.94818292e-01 8.22649360e-01 3.95751559e-01\n",
      "   1.21546997e-01]]\n",
      "\n",
      " [[9.96224309e-01 3.73149615e-02 6.34853415e-01 5.46520959e-01\n",
      "   8.08286064e-01]\n",
      "  [6.17439076e-01 6.31043345e-01 7.34705861e-01 4.97594751e-01\n",
      "   6.49827752e-01]\n",
      "  [2.69506568e-01 4.82604089e-01 3.87646054e-01 2.15324632e-01\n",
      "   3.17402304e-01]]]\n",
      "[[[1.54695418 1.07991582 1.13713873 1.2926599  1.36289723]\n",
      "  [1.84263304 1.81481557 1.27728337 1.45973173 1.0006835 ]\n",
      "  [1.9397273  1.69481829 1.82264936 1.39575156 1.121547  ]]\n",
      "\n",
      " [[1.99622431 1.03731496 1.63485342 1.54652096 1.80828606]\n",
      "  [1.61743908 1.63104334 1.73470586 1.49759475 1.64982775]\n",
      "  [1.26950657 1.48260409 1.38764605 1.21532463 1.3174023 ]]]\n",
      "All the values are summed. Value in position 0,0,0 in a is added to the value in the same position on array d\n"
     ]
    }
   ],
   "source": [
    "# your code/answer here\n",
    "print(a)\n",
    "print(d)\n",
    "print(\"All the values are summed. Value in position 0,0,0 in a is added to the value in the same position on array d\")"
   ]
  },
  {
   "cell_type": "markdown",
   "metadata": {},
   "source": [
    "#### 12. Multiply *a* and *c*. Assign the result to *e*."
   ]
  },
  {
   "cell_type": "code",
   "execution_count": 14,
   "metadata": {},
   "outputs": [
    {
     "name": "stdout",
     "output_type": "stream",
     "text": [
      "[[[5.46954183e-01 7.99158151e-02 1.37138733e-01 2.92659901e-01\n",
      "   3.62897232e-01]\n",
      "  [8.42633044e-01 8.14815571e-01 2.77283368e-01 4.59731730e-01\n",
      "   6.83495611e-04]\n",
      "  [9.39727298e-01 6.94818292e-01 8.22649360e-01 3.95751559e-01\n",
      "   1.21546997e-01]]\n",
      "\n",
      " [[9.96224309e-01 3.73149615e-02 6.34853415e-01 5.46520959e-01\n",
      "   8.08286064e-01]\n",
      "  [6.17439076e-01 6.31043345e-01 7.34705861e-01 4.97594751e-01\n",
      "   6.49827752e-01]\n",
      "  [2.69506568e-01 4.82604089e-01 3.87646054e-01 2.15324632e-01\n",
      "   3.17402304e-01]]]\n"
     ]
    }
   ],
   "source": [
    "# your code here\n",
    "e = np.multiply(a,c)\n",
    "print(e)"
   ]
  },
  {
   "cell_type": "markdown",
   "metadata": {},
   "source": [
    "#### 13. Does *e* equal to *a*? Why or why not?\n"
   ]
  },
  {
   "cell_type": "code",
   "execution_count": 15,
   "metadata": {},
   "outputs": [
    {
     "name": "stdout",
     "output_type": "stream",
     "text": [
      "[[[5.46954183e-01 7.99158151e-02 1.37138733e-01 2.92659901e-01\n",
      "   3.62897232e-01]\n",
      "  [8.42633044e-01 8.14815571e-01 2.77283368e-01 4.59731730e-01\n",
      "   6.83495611e-04]\n",
      "  [9.39727298e-01 6.94818292e-01 8.22649360e-01 3.95751559e-01\n",
      "   1.21546997e-01]]\n",
      "\n",
      " [[9.96224309e-01 3.73149615e-02 6.34853415e-01 5.46520959e-01\n",
      "   8.08286064e-01]\n",
      "  [6.17439076e-01 6.31043345e-01 7.34705861e-01 4.97594751e-01\n",
      "   6.49827752e-01]\n",
      "  [2.69506568e-01 4.82604089e-01 3.87646054e-01 2.15324632e-01\n",
      "   3.17402304e-01]]]\n",
      "[[[5.46954183e-01 7.99158151e-02 1.37138733e-01 2.92659901e-01\n",
      "   3.62897232e-01]\n",
      "  [8.42633044e-01 8.14815571e-01 2.77283368e-01 4.59731730e-01\n",
      "   6.83495611e-04]\n",
      "  [9.39727298e-01 6.94818292e-01 8.22649360e-01 3.95751559e-01\n",
      "   1.21546997e-01]]\n",
      "\n",
      " [[9.96224309e-01 3.73149615e-02 6.34853415e-01 5.46520959e-01\n",
      "   8.08286064e-01]\n",
      "  [6.17439076e-01 6.31043345e-01 7.34705861e-01 4.97594751e-01\n",
      "   6.49827752e-01]\n",
      "  [2.69506568e-01 4.82604089e-01 3.87646054e-01 2.15324632e-01\n",
      "   3.17402304e-01]]]\n",
      "They are both equal, because all the values of array c are 1, and since they are being multiplied by the element in the same postion (on array a) it will generate the same result\n"
     ]
    }
   ],
   "source": [
    "# your code/answer here\n",
    "print(e)\n",
    "print(a)\n",
    "print(\"They are both equal, because all the values of array c are 1, and since they are being multiplied by the element in the same postion (on array a) it will generate the same result\")"
   ]
  },
  {
   "cell_type": "markdown",
   "metadata": {},
   "source": [
    "#### 14. Identify the max, min, and mean values in *d*. Assign those values to variables *d_max*, *d_min* and *d_mean*."
   ]
  },
  {
   "cell_type": "code",
   "execution_count": 16,
   "metadata": {},
   "outputs": [
    {
     "name": "stdout",
     "output_type": "stream",
     "text": [
      "Max: 1.9962243087715468\n",
      "Min: 1.0006834956109287\n",
      "Mean: 1.4871833572307014\n"
     ]
    }
   ],
   "source": [
    "# your code here\n",
    "d_max = np.max(d)\n",
    "d_min = np.min(d)\n",
    "d_mean = np.mean(d)\n",
    "print(\"Max:\",d_max)\n",
    "print(\"Min:\",d_min)\n",
    "print(\"Mean:\",d_mean)"
   ]
  },
  {
   "cell_type": "markdown",
   "metadata": {},
   "source": [
    "#### 15. Now we want to label the values in *d*. First create an empty array *f* with the same shape (i.e. 2x3x5) as *d* using `np.empty`.\n"
   ]
  },
  {
   "cell_type": "code",
   "execution_count": 17,
   "metadata": {},
   "outputs": [
    {
     "name": "stdout",
     "output_type": "stream",
     "text": [
      "[[[5.46954183e-01 7.99158151e-02 1.37138733e-01 2.92659901e-01\n",
      "   3.62897232e-01]\n",
      "  [8.42633044e-01 8.14815571e-01 2.77283368e-01 4.59731730e-01\n",
      "   6.83495611e-04]\n",
      "  [9.39727298e-01 6.94818292e-01 8.22649360e-01 3.95751559e-01\n",
      "   1.21546997e-01]]\n",
      "\n",
      " [[9.96224309e-01 3.73149615e-02 6.34853415e-01 5.46520959e-01\n",
      "   8.08286064e-01]\n",
      "  [6.17439076e-01 6.31043345e-01 7.34705861e-01 4.97594751e-01\n",
      "   6.49827752e-01]\n",
      "  [2.69506568e-01 4.82604089e-01 3.87646054e-01 2.15324632e-01\n",
      "   3.17402304e-01]]]\n"
     ]
    }
   ],
   "source": [
    "# your code here\n",
    "f = np.empty((2,3,5))\n",
    "print(f)"
   ]
  },
  {
   "cell_type": "markdown",
   "metadata": {},
   "source": [
    "#### 16. Populate the values in *f*. \n",
    "\n",
    "For each value in *d*, if it's larger than *d_min* but smaller than *d_mean*, assign 25 to the corresponding value in *f*. If a value in *d* is larger than *d_mean* but smaller than *d_max*, assign 75 to the corresponding value in *f*. If a value equals to *d_mean*, assign 50 to the corresponding value in *f*. Assign 0 to the corresponding value(s) in *f* for *d_min* in *d*. Assign 100 to the corresponding value(s) in *f* for *d_max* in *d*. In the end, f should have only the following values: 0, 25, 50, 75, and 100.\n",
    "\n",
    "**Note**: you don't have to use Numpy in this question."
   ]
  },
  {
   "cell_type": "code",
   "execution_count": 18,
   "metadata": {},
   "outputs": [
    {
     "name": "stdout",
     "output_type": "stream",
     "text": [
      "First method with repr:\n",
      " array([[[ 75.,  25.,  25.,  25.,  25.],\n",
      "        [ 75.,  75.,  25.,  25.,   0.],\n",
      "        [ 75.,  75.,  75.,  25.,  25.]],\n",
      "\n",
      "       [[100.,  25.,  75.,  75.,  75.],\n",
      "        [ 75.,  75.,  75.,  75.,  75.],\n",
      "        [ 25.,  25.,  25.,  25.,  25.]]])\n",
      "[[[ 75., 25., 25., 25., 25.],\n",
      "  [ 75., 75., 25., 25.,  0.],\n",
      "  [ 75., 75., 75., 25., 25.]],\n",
      "\n",
      " [[100., 25., 75., 75., 75.],\n",
      "  [ 75., 75., 75., 75., 75.],\n",
      "  [ 25., 25., 25., 25., 25.]]]\n"
     ]
    }
   ],
   "source": [
    "i = 0\n",
    "j = 0\n",
    "k = 0\n",
    "\n",
    "for i in range(2):\n",
    "    for j in range(3):\n",
    "        for k in range(5):\n",
    "            if d[i][j][k] > d_min and d[i][j][k] < d_mean:\n",
    "                f[i][j][k] = 25\n",
    "            elif d[i][j][k] > d_mean and d[i][j][k] < d_max:\n",
    "                f[i][j][k] = 75\n",
    "            elif d[i][j][k] == d_mean:\n",
    "                f[i][j][k] = 50\n",
    "            elif d[i][j][k] == d_max:\n",
    "                f[i][j][k] = 100\n",
    "            else:\n",
    "                f[i][j][k] = 0\n",
    "\n",
    "\n",
    "print(\"First method with repr:\\n\", repr(f))\n",
    "print(np.array2string(f, separator = ','))"
   ]
  },
  {
   "cell_type": "markdown",
   "metadata": {},
   "source": [
    "#### 17. Print *d* and *f*. Do you have your expected *f*?\n",
    "For instance, if your *d* is:\n",
    "```python\n",
    "[[[1.85836099, 1.67064465, 1.62576044, 1.40243961, 1.88454931],\n",
    "[1.75354326, 1.69403643, 1.36729252, 1.61415071, 1.12104981],\n",
    "[1.72201435, 1.1862918 , 1.87078449, 1.7726778 , 1.88180042]],\n",
    "[[1.44747908, 1.31673383, 1.02000951, 1.52218947, 1.97066381],\n",
    "[1.79129243, 1.74983003, 1.96028037, 1.85166831, 1.65450881],\n",
    "[1.18068344, 1.9587381 , 1.00656599, 1.93402165, 1.73514584]]]\n",
    "```\n",
    "Your *f* should be:\n",
    "```python\n",
    "[[[ 75.,  75.,  75.,  25.,  75.],\n",
    "[ 75.,  75.,  25.,  25.,  25.],\n",
    "[ 75.,  25.,  75.,  75.,  75.]],\n",
    "[[ 25.,  25.,  25.,  25., 100.],\n",
    "[ 75.,  75.,  75.,  75.,  75.],\n",
    "[ 25.,  75.,   0.,  75.,  75.]]]\n",
    "```"
   ]
  },
  {
   "cell_type": "code",
   "execution_count": 19,
   "metadata": {},
   "outputs": [
    {
     "name": "stdout",
     "output_type": "stream",
     "text": [
      "[[[1.54695418 1.07991582 1.13713873 1.2926599  1.36289723]\n",
      "  [1.84263304 1.81481557 1.27728337 1.45973173 1.0006835 ]\n",
      "  [1.9397273  1.69481829 1.82264936 1.39575156 1.121547  ]]\n",
      "\n",
      " [[1.99622431 1.03731496 1.63485342 1.54652096 1.80828606]\n",
      "  [1.61743908 1.63104334 1.73470586 1.49759475 1.64982775]\n",
      "  [1.26950657 1.48260409 1.38764605 1.21532463 1.3174023 ]]]\n",
      "[[[ 75.  25.  25.  25.  25.]\n",
      "  [ 75.  75.  25.  25.   0.]\n",
      "  [ 75.  75.  75.  25.  25.]]\n",
      "\n",
      " [[100.  25.  75.  75.  75.]\n",
      "  [ 75.  75.  75.  75.  75.]\n",
      "  [ 25.  25.  25.  25.  25.]]]\n"
     ]
    }
   ],
   "source": [
    "# your code here\n",
    "print(d)\n",
    "print(f)"
   ]
  },
  {
   "cell_type": "markdown",
   "metadata": {},
   "source": [
    "#### 18. Bonus question: instead of using numbers (i.e. 0, 25, 50, 75, and 100), use string values  (\"A\", \"B\", \"C\", \"D\", and \"E\") to label the array elements. For the example above, the expected result is:\n",
    "\n",
    "```python\n",
    "[[[ 'D',  'D',  'D',  'B',  'D'],\n",
    "[ 'D',  'D',  'B',  'B',  'B'],\n",
    "[ 'D',  'B',  'D',  'D',  'D']],\n",
    "[[ 'B',  'B',  'B',  'B',  'E'],\n",
    "[ 'D',  'D',  'D',  'D',  'D'],\n",
    "[ 'B',  'D',   'A',  'D', 'D']]]\n",
    "```\n",
    "**Note**: you don't have to use Numpy in this question."
   ]
  },
  {
   "cell_type": "code",
   "execution_count": 20,
   "metadata": {},
   "outputs": [],
   "source": [
    "# your code here\n",
    "f = np.array(f, dtype = 'object')\n",
    "f[f == 0] = 'A'\n",
    "f[f == 25] = 'B'\n",
    "f[f == 50] = 'C'\n",
    "f[f == 75] = 'D'\n",
    "f[f == 100] = 'E'"
   ]
  },
  {
   "cell_type": "code",
   "execution_count": 21,
   "metadata": {},
   "outputs": [
    {
     "name": "stdout",
     "output_type": "stream",
     "text": [
      "[[['D' 'B' 'B' 'B' 'B']\n",
      "  ['D' 'D' 'B' 'B' 'A']\n",
      "  ['D' 'D' 'D' 'B' 'B']]\n",
      "\n",
      " [['E' 'B' 'D' 'D' 'D']\n",
      "  ['D' 'D' 'D' 'D' 'D']\n",
      "  ['B' 'B' 'B' 'B' 'B']]]\n"
     ]
    }
   ],
   "source": [
    "print(f)"
   ]
  },
  {
   "cell_type": "code",
   "execution_count": null,
   "metadata": {},
   "outputs": [],
   "source": []
  }
 ],
 "metadata": {
  "kernelspec": {
   "display_name": "Python 3",
   "language": "python",
   "name": "python3"
  },
  "language_info": {
   "codemirror_mode": {
    "name": "ipython",
    "version": 3
   },
   "file_extension": ".py",
   "mimetype": "text/x-python",
   "name": "python",
   "nbconvert_exporter": "python",
   "pygments_lexer": "ipython3",
   "version": "3.8.3"
  }
 },
 "nbformat": 4,
 "nbformat_minor": 2
}
